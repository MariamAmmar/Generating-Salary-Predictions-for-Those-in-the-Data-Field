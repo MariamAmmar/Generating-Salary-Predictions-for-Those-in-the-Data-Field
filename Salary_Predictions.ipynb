{
 "cells": [
  {
   "cell_type": "markdown",
   "id": "6738df19",
   "metadata": {},
   "source": [
    "# Mariam Ammar Data Science US Job Market Salary Predictions "
   ]
  },
  {
   "cell_type": "markdown",
   "id": "c3bc5287",
   "metadata": {},
   "source": [
    "## Data Cleaning & EDA "
   ]
  },
  {
   "cell_type": "code",
   "execution_count": 1,
   "id": "f40ee399",
   "metadata": {},
   "outputs": [],
   "source": [
    "import pandas as pd \n",
    "import numpy as np\n",
    "import matplotlib.pyplot as plt\n",
    "\n",
    "data = pd.read_csv(\"kaggle.csv\",low_memory=False)\n",
    "\n",
    "df = pd.DataFrame()\n"
   ]
  },
  {
   "cell_type": "code",
   "execution_count": 2,
   "id": "e8f49096",
   "metadata": {},
   "outputs": [],
   "source": [
    "#Filter out responses from students and those who are not employed. \n",
    "data = data[data[\"Q3\"] == \"United States of America\"]\n",
    "data = data[data[\"Q5\"] != \"Student\"]\n",
    "data = data[data[\"Q5\"] != \"Currently not employed\"]\n",
    "data = data[data[\"Q25\"].notnull()]"
   ]
  },
  {
   "cell_type": "markdown",
   "id": "6418db94",
   "metadata": {},
   "source": [
    "### Q1 - Age Feature"
   ]
  },
  {
   "cell_type": "code",
   "execution_count": 3,
   "id": "2452e3db",
   "metadata": {},
   "outputs": [
    {
     "data": {
      "text/plain": [
       "(array([493.,   0.,   0., 572.,   0.,   0., 398.,   0.,   0., 382.]),\n",
       " array([0. , 0.3, 0.6, 0.9, 1.2, 1.5, 1.8, 2.1, 2.4, 2.7, 3. ]),\n",
       " <BarContainer object of 10 artists>)"
      ]
     },
     "execution_count": 3,
     "metadata": {},
     "output_type": "execute_result"
    },
    {
     "data": {
      "image/png": "[encoded data removed]",
      "text/plain": [
       "<Figure size 432x288 with 1 Axes>"
      ]
     },
     "metadata": {
      "needs_background": "light"
     },
     "output_type": "display_data"
    }
   ],
   "source": [
    "data[\"Q1\"].replace(\"18-21\", \"18-29\", inplace = True)\n",
    "data[\"Q1\"].replace(\"22-24\", \"18-29\", inplace = True)\n",
    "data[\"Q1\"].replace(\"25-29\", \"18-29\", inplace = True)\n",
    "\n",
    "data[\"Q1\"].replace(\"30-34\", \"30-39\", inplace = True)\n",
    "data[\"Q1\"].replace(\"35-39\", \"30-39\", inplace = True)\n",
    "\n",
    "data[\"Q1\"].replace(\"40-44\", \"40-49\", inplace = True)\n",
    "data[\"Q1\"].replace(\"45-49\", \"40-49\", inplace = True)\n",
    "\n",
    "\n",
    "data[\"Q1\"].replace(\"50-54\", \"50+\", inplace = True)\n",
    "data[\"Q1\"].replace(\"55-59\", \"50+\", inplace = True)\n",
    "data[\"Q1\"].replace(\"60-69\", \"50+\", inplace = True)\n",
    "data[\"Q1\"].replace(\"70+\", \"50+\", inplace = True)\n",
    "\n",
    "\n",
    "\n",
    "#Create new, clean dataset with encoded features\n",
    "cdf = pd.DataFrame()\n",
    "\n",
    "scale_mapper = {\"18-29\":0, \"30-39\":1, \"40-49\":2, \"50+\":3}\n",
    "cdf[\"Q1_age\"] = data[\"Q1\"].replace(scale_mapper)\n",
    "cdf[\"Q1_age\"].value_counts()\n",
    "\n",
    "plt.hist(data[\"Q1\"])"
   ]
  },
  {
   "cell_type": "markdown",
   "id": "d1f8886a",
   "metadata": {},
   "source": [
    "### Q2 - Gender "
   ]
  },
  {
   "cell_type": "code",
   "execution_count": 4,
   "id": "609c27e3",
   "metadata": {},
   "outputs": [
    {
     "data": {
      "text/plain": [
       "(array([1401.,    0.,    0.,    0.,    0.,  386.,    0.,    0.,    0.,\n",
       "          58.]),\n",
       " array([0. , 0.2, 0.4, 0.6, 0.8, 1. , 1.2, 1.4, 1.6, 1.8, 2. ]),\n",
       " <BarContainer object of 10 artists>)"
      ]
     },
     "execution_count": 4,
     "metadata": {},
     "output_type": "execute_result"
    },
    {
     "data": {
      "image/png": "[encoded data removed]",
      "text/plain": [
       "<Figure size 432x288 with 1 Axes>"
      ]
     },
     "metadata": {
      "needs_background": "light"
     },
     "output_type": "display_data"
    }
   ],
   "source": [
    "data[\"Q2\"].replace(\"Prefer not to say\", \"Other\", inplace = True)\n",
    "data[\"Q2\"].replace(\"Nonbinary\", \"Other\", inplace = True)\n",
    "data[\"Q2\"].replace(\"Prefer to self-describe\", \"Other\", inplace = True)\n",
    "\n",
    "\n",
    "\n",
    "cdf = cdf.join(pd.get_dummies(data[\"Q2\"], prefix = \"gender_\"))\n",
    "\n",
    "\n",
    "plt.hist(data[\"Q2\"])"
   ]
  },
  {
   "cell_type": "markdown",
   "id": "2df7bf1c",
   "metadata": {},
   "source": [
    "### Q4 - Level of Education"
   ]
  },
  {
   "cell_type": "code",
   "execution_count": 5,
   "id": "b7c20765",
   "metadata": {},
   "outputs": [
    {
     "data": {
      "text/plain": [
       "(array([913.,   0.,   0., 440.,   0.,   0., 383.,   0.,   0., 109.]),\n",
       " array([0. , 0.3, 0.6, 0.9, 1.2, 1.5, 1.8, 2.1, 2.4, 2.7, 3. ]),\n",
       " <BarContainer object of 10 artists>)"
      ]
     },
     "execution_count": 5,
     "metadata": {},
     "output_type": "execute_result"
    },
    {
     "data": {
      "image/png": "[encoded data removed]",
      "text/plain": [
       "<Figure size 432x288 with 1 Axes>"
      ]
     },
     "metadata": {
      "needs_background": "light"
     },
     "output_type": "display_data"
    }
   ],
   "source": [
    "data[\"Q4\"].replace(\"Professional doctorate\", \"Doctorate\", inplace = True)\n",
    "data[\"Q4\"].replace(\"Doctoral degree\", \"Doctorate\", inplace = True)\n",
    "data[\"Q4\"].replace(\"Some college/university study without earning a bachelor’s degree\", \"Other\", inplace = True)\n",
    "data[\"Q4\"].replace(\"I prefer not to answer\", \"Other\", inplace = True)\n",
    "data[\"Q4\"].replace(\"No formal education past high school\", \"Other\", inplace = True)\n",
    "\n",
    "scale_mapper = {\"Other\":0, \"Bachelor’s degree\":1, \"Master’s degree\":2, \"Doctorate\":3}\n",
    "cdf[\"Q4_edu\"] = data[\"Q4\"].replace(scale_mapper)\n",
    "cdf[\"Q4_edu\"].value_counts()\n",
    "\n",
    "data[\"Q4\"].value_counts()\n",
    "\n",
    "plt.hist(data[\"Q4\"])"
   ]
  },
  {
   "cell_type": "markdown",
   "id": "090ff297",
   "metadata": {},
   "source": [
    "### Q5 - Title"
   ]
  },
  {
   "cell_type": "code",
   "execution_count": 6,
   "id": "99e3b4d3",
   "metadata": {},
   "outputs": [],
   "source": [
    "data[\"Q5\"].replace(\"Developer Relations/Advocacy\", \"Other\", inplace = True)\n",
    "\n",
    "cdf = cdf.join(pd.get_dummies(data[\"Q5\"], prefix = \"title_\"))\n"
   ]
  },
  {
   "cell_type": "code",
   "execution_count": 7,
   "id": "e971d5b7",
   "metadata": {},
   "outputs": [
    {
     "data": {
      "image/png": "[encoded data removed]",
      "text/plain": [
       "<Figure size 432x288 with 1 Axes>"
      ]
     },
     "metadata": {
      "needs_background": "light"
     },
     "output_type": "display_data"
    }
   ],
   "source": [
    "\n",
    "plt.xticks(rotation='vertical')\n",
    "plt.hist(data[\"Q5\"], bins = 12)\n",
    "plt.show()"
   ]
  },
  {
   "cell_type": "code",
   "execution_count": null,
   "id": "db6b4053",
   "metadata": {},
   "outputs": [],
   "source": []
  },
  {
   "cell_type": "code",
   "execution_count": 8,
   "id": "4a84b1f2",
   "metadata": {},
   "outputs": [
    {
     "data": {
      "text/plain": [
       "Data Scientist               419\n",
       "Other                        353\n",
       "Data Analyst                 227\n",
       "Software Engineer            204\n",
       "Research Scientist           156\n",
       "Machine Learning Engineer    102\n",
       "Business Analyst              97\n",
       "Program/Project Manager       96\n",
       "Data Engineer                 81\n",
       "Product Manager               52\n",
       "DBA/Database Engineer         29\n",
       "Statistician                  29\n",
       "Name: Q5, dtype: int64"
      ]
     },
     "execution_count": 8,
     "metadata": {},
     "output_type": "execute_result"
    }
   ],
   "source": [
    "data[\"Q5\"].value_counts()\n"
   ]
  },
  {
   "cell_type": "markdown",
   "id": "2c8d43fd",
   "metadata": {},
   "source": [
    "### Q6 - Coding Experience"
   ]
  },
  {
   "cell_type": "code",
   "execution_count": 9,
   "id": "bd9554a6",
   "metadata": {},
   "outputs": [
    {
     "data": {
      "text/plain": [
       "1-5 years      514\n",
       "20+ years      395\n",
       "5-10 years     346\n",
       "10-20 years    308\n",
       "<1 year        282\n",
       "Name: Q6, dtype: int64"
      ]
     },
     "execution_count": 9,
     "metadata": {},
     "output_type": "execute_result"
    }
   ],
   "source": [
    "data[\"Q6\"].replace(\"< 1 years\", \"<1 year\", inplace = True)\n",
    "data[\"Q6\"].replace(\"I have never written code\", \"<1 year\", inplace = True)\n",
    "data[\"Q6\"].replace(\"1-3 years\", \"1-5 years\", inplace = True)\n",
    "data[\"Q6\"].replace(\"3-5 years\", \"1-5 years\", inplace = True)\n",
    "\n",
    "scale_mapper = {\"<1 year\":0, \"1-5 years\":1, \"5-10 years\":2, \"10-20 years\":3, \"20+ years\":4}\n",
    "cdf[\"Q6_coding_exp\"] = data[\"Q6\"].replace(scale_mapper)\n",
    "\n",
    "data[\"Q6\"].value_counts()"
   ]
  },
  {
   "cell_type": "code",
   "execution_count": 10,
   "id": "00f4b01b",
   "metadata": {},
   "outputs": [
    {
     "data": {
      "image/png": "[encoded data removed]",
      "text/plain": [
       "<Figure size 432x288 with 1 Axes>"
      ]
     },
     "metadata": {
      "needs_background": "light"
     },
     "output_type": "display_data"
    }
   ],
   "source": [
    "plt.hist(data[\"Q6\"])\n",
    "plt.show()"
   ]
  },
  {
   "cell_type": "code",
   "execution_count": 11,
   "id": "c665f20a",
   "metadata": {},
   "outputs": [
    {
     "data": {
      "text/plain": [
       "1    514\n",
       "4    395\n",
       "2    346\n",
       "3    308\n",
       "0    282\n",
       "Name: Q6_coding_exp, dtype: int64"
      ]
     },
     "execution_count": 11,
     "metadata": {},
     "output_type": "execute_result"
    }
   ],
   "source": [
    "cdf[\"Q6_coding_exp\"].value_counts()"
   ]
  },
  {
   "cell_type": "markdown",
   "id": "32e7bc56",
   "metadata": {},
   "source": [
    "### Q7 - Coding Languages"
   ]
  },
  {
   "cell_type": "code",
   "execution_count": 12,
   "id": "55d6a71e",
   "metadata": {},
   "outputs": [],
   "source": [
    "data['Q7_Part_1'].fillna(data['Q7_Part_2'], inplace = True)\n",
    "data['Q7_Part_1'].fillna(data['Q7_Part_3'], inplace = True)\n",
    "data['Q7_Part_1'].fillna(data['Q7_Part_4'], inplace = True)\n",
    "data['Q7_Part_1'].fillna(data['Q7_Part_5'], inplace = True)\n",
    "data['Q7_Part_1'].fillna(data['Q7_Part_6'], inplace = True)\n",
    "data['Q7_Part_1'].fillna(data['Q7_Part_7'], inplace = True)\n",
    "data['Q7_Part_1'].fillna(data['Q7_Part_8'], inplace = True)\n",
    "data['Q7_Part_1'].fillna(data['Q7_Part_9'], inplace = True)\n",
    "data['Q7_Part_1'].fillna(data['Q7_Part_10'], inplace = True)\n",
    "data['Q7_Part_1'].fillna(data['Q7_Part_11'], inplace = True)\n",
    "data['Q7_Part_1'].fillna(data['Q7_Part_12'], inplace = True)"
   ]
  },
  {
   "cell_type": "code",
   "execution_count": 13,
   "id": "15e3b10c",
   "metadata": {},
   "outputs": [
    {
     "data": {
      "text/plain": [
       "Python        1431\n",
       "SQL             97\n",
       "R               94\n",
       "None            47\n",
       "Java             9\n",
       "C                8\n",
       "C++              6\n",
       "Javascript       6\n",
       "MATLAB           5\n",
       "Bash             2\n",
       "Julia            1\n",
       "Name: Q7_Part_1, dtype: int64"
      ]
     },
     "execution_count": 13,
     "metadata": {},
     "output_type": "execute_result"
    }
   ],
   "source": [
    "\n",
    "data[\"Q7_Part_1\"].value_counts()\n",
    "\n"
   ]
  },
  {
   "cell_type": "code",
   "execution_count": 14,
   "id": "7a504bc2",
   "metadata": {},
   "outputs": [
    {
     "data": {
      "text/plain": [
       "Python    1431\n",
       "Other      223\n",
       "SQL         97\n",
       "R           94\n",
       "Name: Q7_Part_1, dtype: int64"
      ]
     },
     "execution_count": 14,
     "metadata": {},
     "output_type": "execute_result"
    }
   ],
   "source": [
    "for i in data[\"Q7_Part_1\"]:\n",
    "    if i == \"Python\" or i==\"R\" or i==\"SQL\":\n",
    "        pass\n",
    "    else:\n",
    "        data[\"Q7_Part_1\"].replace(i,\"Other\", inplace = True)\n",
    "        \n",
    "data[\"Q7_Part_1\"].value_counts()"
   ]
  },
  {
   "cell_type": "code",
   "execution_count": 15,
   "id": "30662d64",
   "metadata": {},
   "outputs": [],
   "source": [
    "\n",
    "cdf = cdf.join(pd.get_dummies(data[\"Q7_Part_1\"], prefix = \"programming_lang_\"))"
   ]
  },
  {
   "cell_type": "markdown",
   "id": "bc9328cd",
   "metadata": {},
   "source": [
    "### Q15 - ML Experience"
   ]
  },
  {
   "cell_type": "code",
   "execution_count": 16,
   "id": "c0b99c73",
   "metadata": {},
   "outputs": [
    {
     "data": {
      "text/plain": [
       "1-5 years      735\n",
       "<1 year        630\n",
       "5-10 years     208\n",
       "10-20 years     95\n",
       "20+             59\n",
       "Name: Q15, dtype: int64"
      ]
     },
     "execution_count": 16,
     "metadata": {},
     "output_type": "execute_result"
    }
   ],
   "source": [
    "data[\"Q15\"].replace(\"Under 1 year\", \"<1 year\", inplace = True)\n",
    "data[\"Q15\"].replace(\"I do not use machine learning methods\", \"<1 year\", inplace = True)\n",
    "\n",
    "data[\"Q15\"].replace(\"1-2 years\", \"1-5 years\", inplace = True)\n",
    "data[\"Q15\"].replace(\"2-3 years\", \"1-5 years\", inplace = True)\n",
    "data[\"Q15\"].replace(\"3-4 years\", \"1-5 years\", inplace = True)\n",
    "data[\"Q15\"].replace(\"4-5 years\", \"1-5 years\", inplace = True)\n",
    "\n",
    "data[\"Q15\"].replace(\"20 or more years\", \"20+\", inplace = True)\n",
    "\n",
    "\n",
    "data[\"Q15\"].value_counts()"
   ]
  },
  {
   "cell_type": "code",
   "execution_count": 17,
   "id": "463e458b",
   "metadata": {},
   "outputs": [],
   "source": [
    "scale_mapper = {\"<1 year\": 0, \"1-5 years\": 1, \"5-10 years\": 2, \"10-20 years\": 3, \"20+\": 4}\n",
    "cdf[\"Q15_ml_experience\"] = data[\"Q15\"].replace(scale_mapper)\n",
    "\n",
    "cdf[\"Q15_ml_experience\"].fillna(0, inplace = True)"
   ]
  },
  {
   "cell_type": "markdown",
   "id": "f2a25577",
   "metadata": {},
   "source": [
    "### Q20- Industry"
   ]
  },
  {
   "cell_type": "code",
   "execution_count": 18,
   "id": "a5ae9adf",
   "metadata": {},
   "outputs": [
    {
     "data": {
      "image/png": "[encoded data removed]",
      "text/plain": [
       "<Figure size 432x288 with 1 Axes>"
      ]
     },
     "metadata": {
      "needs_background": "light"
     },
     "output_type": "display_data"
    }
   ],
   "source": [
    "data[\"Q20\"].replace(\"Hospitality/Entertainment/Sports\", \"Other\", inplace = True)\n",
    "data[\"Q20\"].replace(\"Non-profit/Service\", \"Other\", inplace = True)\n",
    "data[\"Q20\"].replace(\"Online Business/Internet-based Sales\", \"Other\", inplace = True)\n",
    "\n",
    "\n",
    "plt.xticks(rotation='vertical')\n",
    "plt.hist(data[\"Q20\"], bins = 15)\n",
    "plt.show()"
   ]
  },
  {
   "cell_type": "code",
   "execution_count": 19,
   "id": "9fd37625",
   "metadata": {},
   "outputs": [
    {
     "data": {
      "text/plain": [
       "Computers/Technology                      398\n",
       "Academics/Education                       247\n",
       "Other                                     224\n",
       "Accounting/Finance                        183\n",
       "Medical/Pharmaceutical                    162\n",
       "Government/Public Service                 108\n",
       "Military/Security/Defense                  73\n",
       "Insurance/Risk Assessment                  72\n",
       "Retail/Sales                               69\n",
       "Online Service/Internet-based Services     67\n",
       "Manufacturing/Fabrication                  67\n",
       "Energy/Mining                              56\n",
       "Shipping/Transportation                    42\n",
       "Broadcasting/Communications                39\n",
       "Marketing/CRM                              38\n",
       "Name: Q20, dtype: int64"
      ]
     },
     "execution_count": 19,
     "metadata": {},
     "output_type": "execute_result"
    }
   ],
   "source": [
    "data[\"Q20\"].value_counts()\n"
   ]
  },
  {
   "cell_type": "code",
   "execution_count": 20,
   "id": "9839c310",
   "metadata": {},
   "outputs": [],
   "source": [
    "cdf = cdf.join(pd.get_dummies(data[\"Q20\"], prefix = \"industry_\"))"
   ]
  },
  {
   "cell_type": "markdown",
   "id": "467a644a",
   "metadata": {},
   "source": [
    "### Q21 - Company Size "
   ]
  },
  {
   "cell_type": "code",
   "execution_count": 21,
   "id": "937f9949",
   "metadata": {},
   "outputs": [
    {
     "data": {
      "image/png": "[encoded data removed]",
      "text/plain": [
       "<Figure size 432x288 with 1 Axes>"
      ]
     },
     "metadata": {
      "needs_background": "light"
     },
     "output_type": "display_data"
    }
   ],
   "source": [
    "data[\"Q21\"].replace(\"0-49 employees\", \"0-249 employees\", inplace = True)\n",
    "data[\"Q21\"].replace(\"50-249 employees\", \"0-249 employees\", inplace = True)\n",
    "\n",
    "\n",
    "# data[\"Q21\"].value_counts()\n",
    "plt.xticks(rotation='vertical')\n",
    "plt.hist(data[\"Q21\"])\n",
    "plt.show()"
   ]
  },
  {
   "cell_type": "code",
   "execution_count": 22,
   "id": "f15e1438",
   "metadata": {},
   "outputs": [
    {
     "data": {
      "text/plain": [
       "0    613\n",
       "3    605\n",
       "2    392\n",
       "1    235\n",
       "Name: Q21_company_size, dtype: int64"
      ]
     },
     "execution_count": 22,
     "metadata": {},
     "output_type": "execute_result"
    }
   ],
   "source": [
    "scale_mapper = {\"0-249 employees\":0, \"250-999 employees\":1, \"1000-9,999 employees\":2, \"10,000 or more employees\":3}\n",
    "cdf[\"Q21_company_size\"] = data[\"Q21\"].replace(scale_mapper)\n",
    "\n",
    "cdf[\"Q21_company_size\"].value_counts()"
   ]
  },
  {
   "cell_type": "markdown",
   "id": "281acac4",
   "metadata": {},
   "source": [
    "### Q22 - Individuals Responsible for Data Science Workload"
   ]
  },
  {
   "cell_type": "code",
   "execution_count": 23,
   "id": "8be3199d",
   "metadata": {},
   "outputs": [
    {
     "data": {
      "text/plain": [
       "0-4      790\n",
       "20+      652\n",
       "5-9      211\n",
       "10-19    192\n",
       "Name: Q22, dtype: int64"
      ]
     },
     "execution_count": 23,
     "metadata": {},
     "output_type": "execute_result"
    }
   ],
   "source": [
    "data[\"Q22\"].replace(\"0\", \"0-4\", inplace = True)\n",
    "data[\"Q22\"].replace(\"1-2\", \"0-4\", inplace = True)\n",
    "data[\"Q22\"].replace(\"3-4\", \"0-4\", inplace = True)\n",
    "\n",
    "data[\"Q22\"].replace(\"10-14\", \"10-19\", inplace = True)\n",
    "data[\"Q22\"].replace(\"15-19\", \"10-19\", inplace = True)\n",
    "\n",
    "data[\"Q22\"].value_counts()"
   ]
  },
  {
   "cell_type": "code",
   "execution_count": 24,
   "id": "74542cb0",
   "metadata": {},
   "outputs": [
    {
     "data": {
      "text/plain": [
       "0    790\n",
       "3    652\n",
       "1    211\n",
       "2    192\n",
       "Name: Q22_ind_responsible, dtype: int64"
      ]
     },
     "execution_count": 24,
     "metadata": {},
     "output_type": "execute_result"
    }
   ],
   "source": [
    "scale_mapper = {\"0-4\":0, \"5-9\":1, \"10-19\":2, \"20+\":3}\n",
    "cdf[\"Q22_ind_responsible\"] = data[\"Q22\"].replace(scale_mapper)\n",
    "\n",
    "cdf[\"Q22_ind_responsible\"].value_counts()"
   ]
  },
  {
   "cell_type": "markdown",
   "id": "b79fd566",
   "metadata": {},
   "source": [
    "### Q24 - Important Responsibilities"
   ]
  },
  {
   "cell_type": "code",
   "execution_count": 25,
   "id": "b9b1d5e6",
   "metadata": {},
   "outputs": [
    {
     "data": {
      "text/plain": [
       "Analyze and understand data to influence product or business decisions                                              1236\n",
       "Other                                                                                                                338\n",
       "Build prototypes to explore applying machine learning to new areas                                                   113\n",
       "Build and/or run the data infrastructure that my business uses for storing, analyzing, and operationalizing data     100\n",
       "ML experimentation and research                                                                                       58\n",
       "Name: Q24_Part_1, dtype: int64"
      ]
     },
     "execution_count": 25,
     "metadata": {},
     "output_type": "execute_result"
    }
   ],
   "source": [
    "data['Q24_Part_1'].fillna(data['Q24_Part_2'], inplace = True)\n",
    "data['Q24_Part_1'].fillna(data['Q24_Part_3'], inplace = True)\n",
    "data['Q24_Part_1'].fillna(data['Q24_Part_4'], inplace = True)\n",
    "data['Q24_Part_1'].fillna(data['Q24_Part_5'], inplace = True)\n",
    "data['Q24_Part_1'].fillna(data['Q24_Part_6'], inplace = True)\n",
    "data['Q24_Part_1'].fillna(data['Q24_Part_7'], inplace = True)\n",
    "data['Q24_Part_1'].fillna(data['Q24_OTHER'], inplace = True)\n",
    "\n",
    "\n",
    "data['Q24_Part_1'].replace(\"Build and/or run a machine learning service that operationally improves my product or workflows\",\"Other\", inplace = True)\n",
    "data['Q24_Part_1'].replace(\"Experimentation and iteration to improve existing ML models\",\"ML experimentation and research\", inplace = True)\n",
    "data['Q24_Part_1'].replace(\"Do research that advances the state of the art of machine learning\",\"ML experimentation and research\", inplace = True)\n",
    "\n",
    "data['Q24_Part_1'].replace(\"None of these activities are an important part of my role at work\",\"Other\", inplace = True)\n",
    "\n",
    "\n",
    "data[\"Q24_Part_1\"].value_counts()"
   ]
  },
  {
   "cell_type": "code",
   "execution_count": 26,
   "id": "2646bf7d",
   "metadata": {},
   "outputs": [],
   "source": [
    "cdf = cdf.join(pd.get_dummies(data[\"Q24_Part_1\"], prefix = \"responsibilities_\"))"
   ]
  },
  {
   "cell_type": "markdown",
   "id": "9ea263be",
   "metadata": {},
   "source": [
    "### Q27 - Cloud Computing Platforms Used"
   ]
  },
  {
   "cell_type": "code",
   "execution_count": 27,
   "id": "d6fef674",
   "metadata": {},
   "outputs": [],
   "source": [
    "data['Q27_A_Part_1'].fillna(data['Q27_A_Part_2'], inplace = True)\n",
    "data['Q27_A_Part_1'].fillna(data['Q27_A_Part_3'], inplace = True)\n",
    "data['Q27_A_Part_1'].fillna(data['Q27_A_Part_4'], inplace = True)\n",
    "data['Q27_A_Part_1'].fillna(data['Q27_A_Part_5'], inplace = True)\n",
    "data['Q27_A_Part_1'].fillna(data['Q27_A_Part_6'], inplace = True)\n",
    "data['Q27_A_Part_1'].fillna(data['Q27_A_Part_7'], inplace = True)\n",
    "data['Q27_A_Part_1'].fillna(data['Q27_A_Part_8'], inplace = True)\n",
    "data['Q27_A_Part_1'].fillna(data['Q27_A_Part_9'], inplace = True)\n",
    "data['Q27_A_Part_1'].fillna(data['Q27_A_Part_10'], inplace = True)\n",
    "data['Q27_A_Part_1'].fillna(data['Q27_A_Part_11'], inplace = True)\n",
    "data['Q27_A_Part_1'].fillna(data['Q27_A_OTHER'], inplace = True)\n",
    "\n",
    "data['Q27_A_Part_1'].replace(\" IBM Cloud / Red Hat \", \"Other\", inplace = True)\n",
    "data['Q27_A_Part_1'].replace(\" Oracle Cloud \", \"Other\", inplace = True)\n",
    "data['Q27_A_Part_1'].replace(\" Salesforce Cloud \", \"Other\", inplace = True)\n",
    "data['Q27_A_Part_1'].replace(\" VMware Cloud \", \"Other\", inplace = True)\n",
    "data['Q27_A_Part_1'].replace(\" SAP Cloud \", \"Other\", inplace = True)\n",
    "data['Q27_A_Part_1'].replace(\" Alibaba Cloud \", \"Other\", inplace = True)\n",
    "\n"
   ]
  },
  {
   "cell_type": "code",
   "execution_count": 28,
   "id": "1819408e",
   "metadata": {},
   "outputs": [
    {
     "data": {
      "text/plain": [
       " Amazon Web Services (AWS)       630\n",
       "None                             306\n",
       " Microsoft Azure                 177\n",
       " Google Cloud Platform (GCP)     114\n",
       "Other                             79\n",
       "Name: Q27_A_Part_1, dtype: int64"
      ]
     },
     "execution_count": 28,
     "metadata": {},
     "output_type": "execute_result"
    }
   ],
   "source": [
    "data['Q27_A_Part_1'].value_counts()"
   ]
  },
  {
   "cell_type": "code",
   "execution_count": 29,
   "id": "67152743",
   "metadata": {},
   "outputs": [],
   "source": [
    "cdf = cdf.join(pd.get_dummies(data[\"Q27_A_Part_1\"], prefix = \"cloud_comp_\"))\n"
   ]
  },
  {
   "cell_type": "markdown",
   "id": "c221c22d",
   "metadata": {},
   "source": [
    "### Q32 - Big Data Tools Used Regularly "
   ]
  },
  {
   "cell_type": "code",
   "execution_count": 30,
   "id": "403f55ab",
   "metadata": {},
   "outputs": [
    {
     "data": {
      "text/plain": [
       "MySQL                            381\n",
       "None/Other                       346\n",
       "PostgreSQL                       165\n",
       "Microsoft SQL Server              92\n",
       "Snowflake                         52\n",
       "Oracle Database                   51\n",
       "SQLite                            47\n",
       "MongoDB                           40\n",
       "Google Cloud BigQuery             35\n",
       "Amazon Redshift                   18\n",
       "Microsoft Azure SQL Database      17\n",
       "Name: Q32_A_Part_1, dtype: int64"
      ]
     },
     "execution_count": 30,
     "metadata": {},
     "output_type": "execute_result"
    }
   ],
   "source": [
    "for i in range(2,21):\n",
    "    data['Q32_A_Part_1'].fillna(data[f'Q32_A_Part_{i}'], inplace = True)\n",
    "    \n",
    "\n",
    "data['Q32_A_Part_1'].replace(\"IBM Db2 \", \"None/Other\", inplace = True)\n",
    "data['Q32_A_Part_1'].replace(\"None\", \"None/Other\", inplace = True)\n",
    "data['Q32_A_Part_1'].replace(\"Microsoft Azure Cosmos DB \", \"None/Other\", inplace = True)\n",
    "data['Q32_A_Part_1'].replace(\"Amazon RDS \", \"None/Other\", inplace = True)\n",
    "data['Q32_A_Part_1'].replace(\"Google Cloud SQL \", \"None/Other\", inplace = True)\n",
    "data['Q32_A_Part_1'].replace(\"Amazon DynamoDB \", \"None/Other\", inplace = True)\n",
    "data['Q32_A_Part_1'].replace(\"Amazon Aurora \", \"None/Other\", inplace = True)\n",
    "data['Q32_A_Part_1'].replace(\"Google Cloud BigTable \", \"None/Other\", inplace = True)\n",
    "data['Q32_A_Part_1'].replace(\"Google Cloud Spanner \", \"None/Other\", inplace = True)\n",
    "\n",
    "\n",
    "data['Q32_A_Part_1'].value_counts() \n"
   ]
  },
  {
   "cell_type": "code",
   "execution_count": 31,
   "id": "d9f664f6",
   "metadata": {},
   "outputs": [],
   "source": [
    "cdf = cdf.join(pd.get_dummies(data[\"Q32_A_Part_1\"], prefix = \"data_tools_\"))\n"
   ]
  },
  {
   "cell_type": "markdown",
   "id": "bfa4772c",
   "metadata": {},
   "source": [
    "### Q25 - Current Yearly Salary in USD"
   ]
  },
  {
   "cell_type": "code",
   "execution_count": 32,
   "id": "d0b74337",
   "metadata": {},
   "outputs": [
    {
     "data": {
      "text/plain": [
       "50,000-99,999      496\n",
       "100,000-149,999    475\n",
       "0-49,999           381\n",
       "150,000-199,999    249\n",
       "200,000-249,999    101\n",
       "300,000-499,999     62\n",
       "250,000-299,999     49\n",
       "500K +              32\n",
       "Name: Q25, dtype: int64"
      ]
     },
     "execution_count": 32,
     "metadata": {},
     "output_type": "execute_result"
    }
   ],
   "source": [
    "data[\"Q25\"].replace(\"2,000-2,999\",\"0-49,999\", inplace = True)\n",
    "data[\"Q25\"].replace(\"3,000-3,999\",\"0-49,999\", inplace = True)\n",
    "\n",
    "data[\"Q25\"].replace(\"$0-999\",\"0-49,999\", inplace = True)\n",
    "data[\"Q25\"].replace(\"5,000-7,499\",\"0-49,999\", inplace = True)\n",
    "data[\"Q25\"].replace(\"15,000-19,999\",\"0-49,999\", inplace = True)\n",
    "data[\"Q25\"].replace(\"4,000-4,999\",\"0-49,999\", inplace = True)\n",
    "\n",
    "data[\"Q25\"].replace(\"1,000-1,999\",\"0-49,999\", inplace = True)\n",
    "data[\"Q25\"].replace(\"7,500-9,999\",\"0-49,999\", inplace = True)\n",
    "data[\"Q25\"].replace(\"10,000-14,999\",\"0-49,999\", inplace = True)\n",
    "data[\"Q25\"].replace(\"15,000-19,999\",\"0-49,999\", inplace = True)\n",
    "data[\"Q25\"].replace(\"25,000-29,999\",\"0-49,999\", inplace = True)\n",
    "\n",
    "data[\"Q25\"].replace(\"20,000-24,999\",\"0-49,999\", inplace = True)\n",
    "data[\"Q25\"].replace(\"30,000-39,999\",\"0-49,999\", inplace = True)\n",
    "data[\"Q25\"].replace(\"40,000-49,999\",\"0-49,999\", inplace = True)\n",
    "\n",
    "data[\"Q25\"].replace(\"$500,000-999,999\",\"500K +\", inplace = True)\n",
    "data[\"Q25\"].replace(\">$1,000,000\",\"500K +\", inplace = True)\n",
    "\n",
    "data[\"Q25\"].replace(\"50,000-59,999\",\"50,000-99,999\", inplace = True)\n",
    "data[\"Q25\"].replace(\"60,000-69,999\",\"50,000-99,999\", inplace = True)\n",
    "data[\"Q25\"].replace(\"70,000-79,999\",\"50,000-99,999\", inplace = True)\n",
    "data[\"Q25\"].replace(\"80,000-89,999\",\"50,000-99,999\", inplace = True)\n",
    "data[\"Q25\"].replace(\"90,000-99,999\",\"50,000-99,999\", inplace = True)\n",
    "\n",
    "\n",
    "data[\"Q25\"].replace(\"70,000-79,999\",\"50,000-99,999\", inplace = True)\n",
    "data[\"Q25\"].replace(\"80,000-89,999\",\"50,000-99,999\", inplace = True)\n",
    "data[\"Q25\"].replace(\"90,000-99,999\",\"50,000-99,999\", inplace = True)\n",
    "\n",
    "\n",
    "data[\"Q25\"].replace(\"100,000-124,999\",\"100,000-149,999\", inplace = True)\n",
    "data[\"Q25\"].replace(\"125,000-149,999\",\"100,000-149,999\", inplace = True)\n",
    "\n",
    "data[\"Q25\"].value_counts(dropna = False)\n",
    "\n",
    "# plt.hist(data[\"Q25\"])\n"
   ]
  },
  {
   "cell_type": "markdown",
   "id": "a4e1de48",
   "metadata": {},
   "source": [
    "Since these values are recorded in intervals, this will be a classification problem with the following mapping. The increasing number categories coincide with the increase in salary ranges. \n"
   ]
  },
  {
   "cell_type": "code",
   "execution_count": 33,
   "id": "130b0225",
   "metadata": {},
   "outputs": [
    {
     "data": {
      "text/plain": [
       "[]"
      ]
     },
     "execution_count": 33,
     "metadata": {},
     "output_type": "execute_result"
    },
    {
     "data": {
      "image/png": "[encoded data removed]",
      "text/plain": [
       "<Figure size 432x288 with 1 Axes>"
      ]
     },
     "metadata": {
      "needs_background": "light"
     },
     "output_type": "display_data"
    }
   ],
   "source": [
    "scale_mapper = {\"0-49,999\":0, \"50,000-99,999\":1, \"100,000-149,999\":2, \"150,000-199,999\":3, \"200,000-249,999\":4, \"250,000-299,999\":5, \"300,000-499,999\":6, \"500K +\": 7}\n",
    "cdf[\"target\"] = data[\"Q25\"].replace(scale_mapper)\n",
    "\n",
    "from collections import Counter\n",
    "\n",
    "cdf[\"target\"].value_counts()\n",
    "\n",
    "plt.hist(cdf[\"target\"], bins = 8)\n",
    "plt.plot()\n",
    "\n"
   ]
  },
  {
   "cell_type": "markdown",
   "id": "1bdfd492",
   "metadata": {},
   "source": [
    "### Train/Test Split and Data Balancing "
   ]
  },
  {
   "cell_type": "markdown",
   "id": "7eaef3cd",
   "metadata": {},
   "source": [
    "Here we can see that the majority of survey takers fall within the first three categories of salary ranges which go from 0 - 149,999 USD/year. However, since the dataset is imbalanced, I have incorportated a balancing technique called SMOTE. "
   ]
  },
  {
   "cell_type": "code",
   "execution_count": 34,
   "id": "37d60d04",
   "metadata": {},
   "outputs": [
    {
     "name": "stdout",
     "output_type": "stream",
     "text": [
      "After OverSampling, the shape of train_X: (3000, 61)\n",
      "After OverSampling, the shape of train_y: (3000,) \n",
      "\n",
      "After OverSampling, counts of label '0': 375\n",
      "After OverSampling, counts of label '1': 375\n",
      "After OverSampling, counts of label '2': 375\n",
      "After OverSampling, counts of label '3': 375\n",
      "After OverSampling, counts of label '4': 375\n",
      "After OverSampling, counts of label '5': 375\n",
      "After OverSampling, counts of label '6': 375\n",
      "After OverSampling, counts of label '7': 375\n"
     ]
    }
   ],
   "source": [
    "from imblearn.over_sampling import SMOTE \n",
    "from sklearn.model_selection import train_test_split\n",
    "\n",
    "\n",
    "X = cdf.iloc[:,:-1]\n",
    "y = cdf.iloc[:,-1]\n",
    "\n",
    "\n",
    "X_train, X_test, y_train, y_test = train_test_split(X, y, test_size=0.25, random_state=42, shuffle = True)\n",
    "\n",
    "sm = SMOTE(random_state=42)\n",
    "X_train_res, y_train_res = sm.fit_resample(X_train, y_train)\n",
    "\n",
    "\n",
    "print('After OverSampling, the shape of train_X: {}'.format(X_train_res.shape))\n",
    "print('After OverSampling, the shape of train_y: {} \\n'.format(y_train_res.shape))\n",
    "\n",
    "\n",
    "print(\"After OverSampling, counts of label '0': {}\".format(sum(y_train_res == 0)))\n",
    "print(\"After OverSampling, counts of label '1': {}\".format(sum(y_train_res == 1)))\n",
    "print(\"After OverSampling, counts of label '2': {}\".format(sum(y_train_res == 2)))\n",
    "print(\"After OverSampling, counts of label '3': {}\".format(sum(y_train_res == 3)))\n",
    "print(\"After OverSampling, counts of label '4': {}\".format(sum(y_train_res == 4)))\n",
    "\n",
    "print(\"After OverSampling, counts of label '5': {}\".format(sum(y_train_res == 5)))\n",
    "print(\"After OverSampling, counts of label '6': {}\".format(sum(y_train_res == 6)))\n",
    "print(\"After OverSampling, counts of label '7': {}\".format(sum(y_train_res == 7)))\n",
    "\n"
   ]
  },
  {
   "cell_type": "markdown",
   "id": "45bd55ec",
   "metadata": {},
   "source": [
    "# Modeling\n",
    "\n",
    "Here the model with the highest accuracy will be chosen then hyperparameter tuning will be conduced in addition to variable selection. "
   ]
  },
  {
   "cell_type": "markdown",
   "id": "9cd921de",
   "metadata": {},
   "source": [
    "### Logistic Regression "
   ]
  },
  {
   "cell_type": "code",
   "execution_count": 35,
   "id": "cb25d98a",
   "metadata": {},
   "outputs": [
    {
     "name": "stdout",
     "output_type": "stream",
     "text": [
      "0.3852813852813853\n"
     ]
    },
    {
     "name": "stderr",
     "output_type": "stream",
     "text": [
      "/Users/mariamammar/opt/anaconda3/lib/python3.8/site-packages/sklearn/linear_model/_logistic.py:444: ConvergenceWarning: lbfgs failed to converge (status=1):\n",
      "STOP: TOTAL NO. of ITERATIONS REACHED LIMIT.\n",
      "\n",
      "Increase the number of iterations (max_iter) or scale the data as shown in:\n",
      "    https://scikit-learn.org/stable/modules/preprocessing.html\n",
      "Please also refer to the documentation for alternative solver options:\n",
      "    https://scikit-learn.org/stable/modules/linear_model.html#logistic-regression\n",
      "  n_iter_i = _check_optimize_result(\n",
      "/Users/mariamammar/opt/anaconda3/lib/python3.8/site-packages/sklearn/linear_model/_logistic.py:444: ConvergenceWarning: lbfgs failed to converge (status=1):\n",
      "STOP: TOTAL NO. of ITERATIONS REACHED LIMIT.\n",
      "\n",
      "Increase the number of iterations (max_iter) or scale the data as shown in:\n",
      "    https://scikit-learn.org/stable/modules/preprocessing.html\n",
      "Please also refer to the documentation for alternative solver options:\n",
      "    https://scikit-learn.org/stable/modules/linear_model.html#logistic-regression\n",
      "  n_iter_i = _check_optimize_result(\n",
      "/Users/mariamammar/opt/anaconda3/lib/python3.8/site-packages/sklearn/linear_model/_logistic.py:444: ConvergenceWarning: lbfgs failed to converge (status=1):\n",
      "STOP: TOTAL NO. of ITERATIONS REACHED LIMIT.\n",
      "\n",
      "Increase the number of iterations (max_iter) or scale the data as shown in:\n",
      "    https://scikit-learn.org/stable/modules/preprocessing.html\n",
      "Please also refer to the documentation for alternative solver options:\n",
      "    https://scikit-learn.org/stable/modules/linear_model.html#logistic-regression\n",
      "  n_iter_i = _check_optimize_result(\n",
      "/Users/mariamammar/opt/anaconda3/lib/python3.8/site-packages/sklearn/linear_model/_logistic.py:444: ConvergenceWarning: lbfgs failed to converge (status=1):\n",
      "STOP: TOTAL NO. of ITERATIONS REACHED LIMIT.\n",
      "\n",
      "Increase the number of iterations (max_iter) or scale the data as shown in:\n",
      "    https://scikit-learn.org/stable/modules/preprocessing.html\n",
      "Please also refer to the documentation for alternative solver options:\n",
      "    https://scikit-learn.org/stable/modules/linear_model.html#logistic-regression\n",
      "  n_iter_i = _check_optimize_result(\n",
      "/Users/mariamammar/opt/anaconda3/lib/python3.8/site-packages/sklearn/linear_model/_logistic.py:444: ConvergenceWarning: lbfgs failed to converge (status=1):\n",
      "STOP: TOTAL NO. of ITERATIONS REACHED LIMIT.\n",
      "\n",
      "Increase the number of iterations (max_iter) or scale the data as shown in:\n",
      "    https://scikit-learn.org/stable/modules/preprocessing.html\n",
      "Please also refer to the documentation for alternative solver options:\n",
      "    https://scikit-learn.org/stable/modules/linear_model.html#logistic-regression\n",
      "  n_iter_i = _check_optimize_result(\n",
      "/Users/mariamammar/opt/anaconda3/lib/python3.8/site-packages/sklearn/linear_model/_logistic.py:444: ConvergenceWarning: lbfgs failed to converge (status=1):\n",
      "STOP: TOTAL NO. of ITERATIONS REACHED LIMIT.\n",
      "\n",
      "Increase the number of iterations (max_iter) or scale the data as shown in:\n",
      "    https://scikit-learn.org/stable/modules/preprocessing.html\n",
      "Please also refer to the documentation for alternative solver options:\n",
      "    https://scikit-learn.org/stable/modules/linear_model.html#logistic-regression\n",
      "  n_iter_i = _check_optimize_result(\n",
      "/Users/mariamammar/opt/anaconda3/lib/python3.8/site-packages/sklearn/linear_model/_logistic.py:444: ConvergenceWarning: lbfgs failed to converge (status=1):\n",
      "STOP: TOTAL NO. of ITERATIONS REACHED LIMIT.\n",
      "\n",
      "Increase the number of iterations (max_iter) or scale the data as shown in:\n",
      "    https://scikit-learn.org/stable/modules/preprocessing.html\n",
      "Please also refer to the documentation for alternative solver options:\n",
      "    https://scikit-learn.org/stable/modules/linear_model.html#logistic-regression\n",
      "  n_iter_i = _check_optimize_result(\n"
     ]
    },
    {
     "name": "stdout",
     "output_type": "stream",
     "text": [
      "0.3955114169533938\n"
     ]
    },
    {
     "name": "stderr",
     "output_type": "stream",
     "text": [
      "/Users/mariamammar/opt/anaconda3/lib/python3.8/site-packages/sklearn/linear_model/_logistic.py:444: ConvergenceWarning: lbfgs failed to converge (status=1):\n",
      "STOP: TOTAL NO. of ITERATIONS REACHED LIMIT.\n",
      "\n",
      "Increase the number of iterations (max_iter) or scale the data as shown in:\n",
      "    https://scikit-learn.org/stable/modules/preprocessing.html\n",
      "Please also refer to the documentation for alternative solver options:\n",
      "    https://scikit-learn.org/stable/modules/linear_model.html#logistic-regression\n",
      "  n_iter_i = _check_optimize_result(\n",
      "/Users/mariamammar/opt/anaconda3/lib/python3.8/site-packages/sklearn/linear_model/_logistic.py:444: ConvergenceWarning: lbfgs failed to converge (status=1):\n",
      "STOP: TOTAL NO. of ITERATIONS REACHED LIMIT.\n",
      "\n",
      "Increase the number of iterations (max_iter) or scale the data as shown in:\n",
      "    https://scikit-learn.org/stable/modules/preprocessing.html\n",
      "Please also refer to the documentation for alternative solver options:\n",
      "    https://scikit-learn.org/stable/modules/linear_model.html#logistic-regression\n",
      "  n_iter_i = _check_optimize_result(\n",
      "/Users/mariamammar/opt/anaconda3/lib/python3.8/site-packages/sklearn/linear_model/_logistic.py:444: ConvergenceWarning: lbfgs failed to converge (status=1):\n",
      "STOP: TOTAL NO. of ITERATIONS REACHED LIMIT.\n",
      "\n",
      "Increase the number of iterations (max_iter) or scale the data as shown in:\n",
      "    https://scikit-learn.org/stable/modules/preprocessing.html\n",
      "Please also refer to the documentation for alternative solver options:\n",
      "    https://scikit-learn.org/stable/modules/linear_model.html#logistic-regression\n",
      "  n_iter_i = _check_optimize_result(\n",
      "/Users/mariamammar/opt/anaconda3/lib/python3.8/site-packages/sklearn/linear_model/_logistic.py:444: ConvergenceWarning: lbfgs failed to converge (status=1):\n",
      "STOP: TOTAL NO. of ITERATIONS REACHED LIMIT.\n",
      "\n",
      "Increase the number of iterations (max_iter) or scale the data as shown in:\n",
      "    https://scikit-learn.org/stable/modules/preprocessing.html\n",
      "Please also refer to the documentation for alternative solver options:\n",
      "    https://scikit-learn.org/stable/modules/linear_model.html#logistic-regression\n",
      "  n_iter_i = _check_optimize_result(\n"
     ]
    }
   ],
   "source": [
    "from sklearn.linear_model import LogisticRegression\n",
    "from sklearn.metrics import accuracy_score, classification_report, confusion_matrix\n",
    "from sklearn.model_selection import cross_val_score\n",
    "\n",
    "import warnings  \n",
    "\n",
    "\n",
    "logreg = LogisticRegression().fit(X_train, y_train)\n",
    "\n",
    "y_pred=logreg.predict(X_test)\n",
    "\n",
    "print(accuracy_score(y_test, y_pred))\n",
    "\n",
    "scores = cross_val_score(logreg, X_train, y_train, cv = 10, scoring='accuracy')\n",
    "\n",
    "print(scores.mean())\n"
   ]
  },
  {
   "cell_type": "markdown",
   "id": "a5695228",
   "metadata": {},
   "source": [
    "### KNN "
   ]
  },
  {
   "cell_type": "code",
   "execution_count": 36,
   "id": "be1d5b7f",
   "metadata": {},
   "outputs": [
    {
     "name": "stdout",
     "output_type": "stream",
     "text": [
      "0.3268398268398268\n",
      "0.33191533729538103\n"
     ]
    }
   ],
   "source": [
    "from sklearn.neighbors import KNeighborsClassifier\n",
    "\n",
    "\n",
    "neigh = KNeighborsClassifier(n_neighbors=3).fit(X_train, y_train)\n",
    "\n",
    "y_pred = neigh.predict(X_test)\n",
    "\n",
    "scores = cross_val_score(neigh, X_train, y_train, cv = 10, scoring='accuracy')\n",
    "\n",
    "\n",
    "print(accuracy_score(y_pred, y_test))\n",
    "\n",
    "print(scores.mean())"
   ]
  },
  {
   "cell_type": "markdown",
   "id": "596bb5d4",
   "metadata": {},
   "source": [
    "### Kernal SVM"
   ]
  },
  {
   "cell_type": "code",
   "execution_count": 37,
   "id": "7cef1abb",
   "metadata": {},
   "outputs": [
    {
     "name": "stdout",
     "output_type": "stream",
     "text": [
      "0.3268398268398268\n",
      "0.41216244395787716\n"
     ]
    }
   ],
   "source": [
    "from sklearn import svm\n",
    "\n",
    "svm = svm.SVC(kernel='rbf').fit(X_train, y_train)\n",
    "\n",
    "svm_pred = svm.predict(X_test)\n",
    "\n",
    "print(accuracy_score(y_pred, y_test))\n",
    "\n",
    "\n",
    "scores = cross_val_score(svm, X_train, y_train, cv = 10, scoring='accuracy')\n",
    "\n",
    "print(scores.mean())"
   ]
  },
  {
   "cell_type": "markdown",
   "id": "094395f6",
   "metadata": {},
   "source": [
    "### Naive Bayes Classifier  "
   ]
  },
  {
   "cell_type": "code",
   "execution_count": 38,
   "id": "a5ca9575",
   "metadata": {},
   "outputs": [
    {
     "name": "stdout",
     "output_type": "stream",
     "text": [
      "0.3722943722943723\n",
      "0.3796006672922531\n"
     ]
    }
   ],
   "source": [
    "from sklearn.naive_bayes import MultinomialNB\n",
    "\n",
    "nb = MultinomialNB()\n",
    "nb.fit(X_train, y_train)\n",
    "\n",
    "y_pred = nb.predict(X_test)\n",
    "\n",
    "print(accuracy_score(y_pred, y_test) )\n",
    "\n",
    "scores = cross_val_score(nb, X_train, y_train, cv = 10, scoring='accuracy')\n",
    "\n",
    "print(scores.mean())"
   ]
  },
  {
   "cell_type": "markdown",
   "id": "5f7e405c",
   "metadata": {},
   "source": [
    "### Randomforest "
   ]
  },
  {
   "cell_type": "code",
   "execution_count": 39,
   "id": "a28523cf",
   "metadata": {},
   "outputs": [
    {
     "name": "stdout",
     "output_type": "stream",
     "text": [
      "0.3528138528138528\n",
      "0.3860650609946825\n"
     ]
    },
    {
     "data": {
      "image/png": "[encoded data removed]",
      "text/plain": [
       "<Figure size 720x1440 with 1 Axes>"
      ]
     },
     "metadata": {
      "needs_background": "light"
     },
     "output_type": "display_data"
    }
   ],
   "source": [
    "from sklearn.ensemble import RandomForestClassifier\n",
    "import seaborn as sns\n",
    "\n",
    "RFC = RandomForestClassifier()\n",
    "RFC.fit(X_train, y_train)\n",
    "\n",
    "\n",
    "RFC_pred = RFC.predict(X_test)\n",
    "\n",
    "print(accuracy_score(RFC_pred, y_test))\n",
    "\n",
    "scores = cross_val_score(RFC, X_train, y_train, cv = 10, scoring='accuracy')\n",
    "\n",
    "print(scores.mean())\n",
    "\n",
    "\n",
    "features = X.columns\n",
    "importances = RFC.feature_importances_\n",
    "indices = np.argsort(importances)\n",
    "\n",
    "# customized number \n",
    "num_features = 30 \n",
    "\n",
    "plt.figure(figsize=(10,20))\n",
    "plt.title('Feature Importances')\n",
    "\n",
    "# only plot the customized number of features\n",
    "plt.barh(range(num_features), importances[indices[-num_features:]], color='b', align='center')\n",
    "plt.yticks(range(num_features), [features[i] for i in indices[-num_features:]])\n",
    "plt.xlabel('Relative Importance')\n",
    "plt.show()\n"
   ]
  },
  {
   "cell_type": "markdown",
   "id": "973899fd",
   "metadata": {},
   "source": [
    "### AdaBoost "
   ]
  },
  {
   "cell_type": "code",
   "execution_count": 40,
   "id": "c15cfaa8",
   "metadata": {},
   "outputs": [
    {
     "name": "stdout",
     "output_type": "stream",
     "text": [
      "0.3203463203463203\n",
      "0.32676988843707644\n"
     ]
    }
   ],
   "source": [
    "from sklearn.ensemble import AdaBoostClassifier\n",
    "\n",
    "\n",
    "ada = AdaBoostClassifier()\n",
    "ada.fit(X_train, y_train)\n",
    "\n",
    "\n",
    "ada_pred = ada.predict(X_test)\n",
    "\n",
    "print(accuracy_score(ada_pred, y_test))\n",
    "\n",
    "scores = cross_val_score(ada, X_train, y_train, cv = 10, scoring='accuracy')\n",
    "\n",
    "print(scores.mean())"
   ]
  },
  {
   "cell_type": "markdown",
   "id": "c28fd6f9",
   "metadata": {},
   "source": [
    "### Hyperparameter tuning and variable selection\n",
    "\n",
    "From all the previous model runs, the Kernal SVM model achieved the highest accuracy. However, feature importance of linear SVMs can be found out but not for a nonlinear SVMs, the reason being that, when the SVM is non-linear the dataset is mapped into a space of higher dimension, which is quite different from the parent dataset and the hyperplane is obtained and this high dimensional data and hence the property is changed from that of the parent dataset and hence it is not possible to find the feature importance of this SVM in relation to the parent dataset features. \n",
    "\n",
    "The second highest scoring model in terms of accuracy was the Logistic Regression model. However, the stats module in Python for logistic regression only creates output for binary classification problems. Due to these reasons and the fact that accuracy for the Random Forest model does not show significant deviation (less than 2%), this model was chosen for ease of explainability to move foreward with the hyperparamters tuning and variable selection. "
   ]
  },
  {
   "cell_type": "markdown",
   "id": "77c79d8b",
   "metadata": {},
   "source": [
    "#### Hyperparameter Tuning "
   ]
  },
  {
   "cell_type": "code",
   "execution_count": 41,
   "id": "6bdb922f",
   "metadata": {},
   "outputs": [
    {
     "name": "stdout",
     "output_type": "stream",
     "text": [
      "Fitting 3 folds for each of 100 candidates, totalling 300 fits\n"
     ]
    },
    {
     "name": "stderr",
     "output_type": "stream",
     "text": [
      "/Users/mariamammar/opt/anaconda3/lib/python3.8/site-packages/joblib/externals/loky/process_executor.py:688: UserWarning: A worker stopped while some jobs were given to the executor. This can be caused by a too short worker timeout or by a memory leak.\n",
      "  warnings.warn(\n",
      "/Users/mariamammar/opt/anaconda3/lib/python3.8/site-packages/sklearn/ensemble/_forest.py:427: FutureWarning: `max_features='auto'` has been deprecated in 1.1 and will be removed in 1.3. To keep the past behaviour, explicitly set `max_features='sqrt'` or remove this parameter as it is also the default value for RandomForestClassifiers and ExtraTreesClassifiers.\n",
      "  warn(\n"
     ]
    },
    {
     "data": {
      "text/html": [
       "<style>#sk-container-id-1 {color: black;background-color: white;}#sk-container-id-1 pre{padding: 0;}#sk-container-id-1 div.sk-toggleable {background-color: white;}#sk-container-id-1 label.sk-toggleable__label {cursor: pointer;display: block;width: 100%;margin-bottom: 0;padding: 0.3em;box-sizing: border-box;text-align: center;}#sk-container-id-1 label.sk-toggleable__label-arrow:before {content: \"▸\";float: left;margin-right: 0.25em;color: #696969;}#sk-container-id-1 label.sk-toggleable__label-arrow:hover:before {color: black;}#sk-container-id-1 div.sk-estimator:hover label.sk-toggleable__label-arrow:before {color: black;}#sk-container-id-1 div.sk-toggleable__content {max-height: 0;max-width: 0;overflow: hidden;text-align: left;background-color: #f0f8ff;}#sk-container-id-1 div.sk-toggleable__content pre {margin: 0.2em;color: black;border-radius: 0.25em;background-color: #f0f8ff;}#sk-container-id-1 input.sk-toggleable__control:checked~div.sk-toggleable__content {max-height: 200px;max-width: 100%;overflow: auto;}#sk-container-id-1 input.sk-toggleable__control:checked~label.sk-toggleable__label-arrow:before {content: \"▾\";}#sk-container-id-1 div.sk-estimator input.sk-toggleable__control:checked~label.sk-toggleable__label {background-color: #d4ebff;}#sk-container-id-1 div.sk-label input.sk-toggleable__control:checked~label.sk-toggleable__label {background-color: #d4ebff;}#sk-container-id-1 input.sk-hidden--visually {border: 0;clip: rect(1px 1px 1px 1px);clip: rect(1px, 1px, 1px, 1px);height: 1px;margin: -1px;overflow: hidden;padding: 0;position: absolute;width: 1px;}#sk-container-id-1 div.sk-estimator {font-family: monospace;background-color: #f0f8ff;border: 1px dotted black;border-radius: 0.25em;box-sizing: border-box;margin-bottom: 0.5em;}#sk-container-id-1 div.sk-estimator:hover {background-color: #d4ebff;}#sk-container-id-1 div.sk-parallel-item::after {content: \"\";width: 100%;border-bottom: 1px solid gray;flex-grow: 1;}#sk-container-id-1 div.sk-label:hover label.sk-toggleable__label {background-color: #d4ebff;}#sk-container-id-1 div.sk-serial::before {content: \"\";position: absolute;border-left: 1px solid gray;box-sizing: border-box;top: 0;bottom: 0;left: 50%;z-index: 0;}#sk-container-id-1 div.sk-serial {display: flex;flex-direction: column;align-items: center;background-color: white;padding-right: 0.2em;padding-left: 0.2em;position: relative;}#sk-container-id-1 div.sk-item {position: relative;z-index: 1;}#sk-container-id-1 div.sk-parallel {display: flex;align-items: stretch;justify-content: center;background-color: white;position: relative;}#sk-container-id-1 div.sk-item::before, #sk-container-id-1 div.sk-parallel-item::before {content: \"\";position: absolute;border-left: 1px solid gray;box-sizing: border-box;top: 0;bottom: 0;left: 50%;z-index: -1;}#sk-container-id-1 div.sk-parallel-item {display: flex;flex-direction: column;z-index: 1;position: relative;background-color: white;}#sk-container-id-1 div.sk-parallel-item:first-child::after {align-self: flex-end;width: 50%;}#sk-container-id-1 div.sk-parallel-item:last-child::after {align-self: flex-start;width: 50%;}#sk-container-id-1 div.sk-parallel-item:only-child::after {width: 0;}#sk-container-id-1 div.sk-dashed-wrapped {border: 1px dashed gray;margin: 0 0.4em 0.5em 0.4em;box-sizing: border-box;padding-bottom: 0.4em;background-color: white;}#sk-container-id-1 div.sk-label label {font-family: monospace;font-weight: bold;display: inline-block;line-height: 1.2em;}#sk-container-id-1 div.sk-label-container {text-align: center;}#sk-container-id-1 div.sk-container {/* jupyter's `normalize.less` sets `[hidden] { display: none; }` but bootstrap.min.css set `[hidden] { display: none !important; }` so we also need the `!important` here to be able to override the default hidden behavior on the sphinx rendered scikit-learn.org. See: https://github.com/scikit-learn/scikit-learn/issues/21755 */display: inline-block !important;position: relative;}#sk-container-id-1 div.sk-text-repr-fallback {display: none;}</style><div id=\"sk-container-id-1\" class=\"sk-top-container\"><div class=\"sk-text-repr-fallback\"><pre>RandomizedSearchCV(cv=3, estimator=RandomForestClassifier(), n_iter=100,\n",
       "                   n_jobs=-1,\n",
       "                   param_distributions={&#x27;bootstrap&#x27;: [True, False],\n",
       "                                        &#x27;max_depth&#x27;: [10, 20, 30, 40, 50, 60,\n",
       "                                                      70, 80, 90, 100, 110,\n",
       "                                                      None],\n",
       "                                        &#x27;max_features&#x27;: [&#x27;auto&#x27;, &#x27;sqrt&#x27;],\n",
       "                                        &#x27;min_samples_leaf&#x27;: [1, 2, 4],\n",
       "                                        &#x27;min_samples_split&#x27;: [2, 5, 10],\n",
       "                                        &#x27;n_estimators&#x27;: [200, 400, 600, 800,\n",
       "                                                         1000, 1200, 1400, 1600,\n",
       "                                                         1800, 2000]},\n",
       "                   random_state=42, verbose=2)</pre><b>In a Jupyter environment, please rerun this cell to show the HTML representation or trust the notebook. <br />On GitHub, the HTML representation is unable to render, please try loading this page with nbviewer.org.</b></div><div class=\"sk-container\" hidden><div class=\"sk-item sk-dashed-wrapped\"><div class=\"sk-label-container\"><div class=\"sk-label sk-toggleable\"><input class=\"sk-toggleable__control sk-hidden--visually\" id=\"sk-estimator-id-1\" type=\"checkbox\" ><label for=\"sk-estimator-id-1\" class=\"sk-toggleable__label sk-toggleable__label-arrow\">RandomizedSearchCV</label><div class=\"sk-toggleable__content\"><pre>RandomizedSearchCV(cv=3, estimator=RandomForestClassifier(), n_iter=100,\n",
       "                   n_jobs=-1,\n",
       "                   param_distributions={&#x27;bootstrap&#x27;: [True, False],\n",
       "                                        &#x27;max_depth&#x27;: [10, 20, 30, 40, 50, 60,\n",
       "                                                      70, 80, 90, 100, 110,\n",
       "                                                      None],\n",
       "                                        &#x27;max_features&#x27;: [&#x27;auto&#x27;, &#x27;sqrt&#x27;],\n",
       "                                        &#x27;min_samples_leaf&#x27;: [1, 2, 4],\n",
       "                                        &#x27;min_samples_split&#x27;: [2, 5, 10],\n",
       "                                        &#x27;n_estimators&#x27;: [200, 400, 600, 800,\n",
       "                                                         1000, 1200, 1400, 1600,\n",
       "                                                         1800, 2000]},\n",
       "                   random_state=42, verbose=2)</pre></div></div></div><div class=\"sk-parallel\"><div class=\"sk-parallel-item\"><div class=\"sk-item\"><div class=\"sk-label-container\"><div class=\"sk-label sk-toggleable\"><input class=\"sk-toggleable__control sk-hidden--visually\" id=\"sk-estimator-id-2\" type=\"checkbox\" ><label for=\"sk-estimator-id-2\" class=\"sk-toggleable__label sk-toggleable__label-arrow\">estimator: RandomForestClassifier</label><div class=\"sk-toggleable__content\"><pre>RandomForestClassifier()</pre></div></div></div><div class=\"sk-serial\"><div class=\"sk-item\"><div class=\"sk-estimator sk-toggleable\"><input class=\"sk-toggleable__control sk-hidden--visually\" id=\"sk-estimator-id-3\" type=\"checkbox\" ><label for=\"sk-estimator-id-3\" class=\"sk-toggleable__label sk-toggleable__label-arrow\">RandomForestClassifier</label><div class=\"sk-toggleable__content\"><pre>RandomForestClassifier()</pre></div></div></div></div></div></div></div></div></div></div>"
      ],
      "text/plain": [
       "RandomizedSearchCV(cv=3, estimator=RandomForestClassifier(), n_iter=100,\n",
       "                   n_jobs=-1,\n",
       "                   param_distributions={'bootstrap': [True, False],\n",
       "                                        'max_depth': [10, 20, 30, 40, 50, 60,\n",
       "                                                      70, 80, 90, 100, 110,\n",
       "                                                      None],\n",
       "                                        'max_features': ['auto', 'sqrt'],\n",
       "                                        'min_samples_leaf': [1, 2, 4],\n",
       "                                        'min_samples_split': [2, 5, 10],\n",
       "                                        'n_estimators': [200, 400, 600, 800,\n",
       "                                                         1000, 1200, 1400, 1600,\n",
       "                                                         1800, 2000]},\n",
       "                   random_state=42, verbose=2)"
      ]
     },
     "execution_count": 41,
     "metadata": {},
     "output_type": "execute_result"
    }
   ],
   "source": [
    "from sklearn.model_selection import RandomizedSearchCV\n",
    "\n",
    "# Number of trees in random forest\n",
    "n_estimators = [int(x) for x in np.linspace(start = 200, stop = 2000, num = 10)]\n",
    "# Number of features to consider at every split\n",
    "max_features = ['auto', 'sqrt']\n",
    "# Maximum number of levels in tree\n",
    "max_depth = [int(x) for x in np.linspace(10, 110, num = 11)]\n",
    "max_depth.append(None)\n",
    "# Minimum number of samples required to split a node\n",
    "min_samples_split = [2, 5, 10]\n",
    "# Minimum number of samples required at each leaf node\n",
    "min_samples_leaf = [1, 2, 4]\n",
    "# Method of selecting samples for training each tree\n",
    "bootstrap = [True, False]\n",
    "\n",
    "# Create the random grid\n",
    "random_grid = {'n_estimators': n_estimators,\n",
    "               'max_features': max_features,\n",
    "               'max_depth': max_depth,\n",
    "               'min_samples_split': min_samples_split,\n",
    "               'min_samples_leaf': min_samples_leaf,\n",
    "               'bootstrap': bootstrap}\n",
    "\n",
    "rf = RandomForestClassifier()\n",
    "\n",
    "rf_random = RandomizedSearchCV(estimator = rf, param_distributions = random_grid, n_iter = 100, cv = 3, verbose=2, random_state=42, n_jobs = -1)\n",
    "\n",
    "rf_random.fit(X_train, y_train)\n",
    "\n"
   ]
  },
  {
   "cell_type": "code",
   "execution_count": 42,
   "id": "b2a0d747",
   "metadata": {},
   "outputs": [
    {
     "data": {
      "text/plain": [
       "0.39826839826839827"
      ]
     },
     "execution_count": 42,
     "metadata": {},
     "output_type": "execute_result"
    }
   ],
   "source": [
    "best_rf = rf_random.best_params_\n",
    "rf_pred = rf_random.predict(X_test)\n",
    "\n",
    "accuracy_score(rf_pred, y_test)"
   ]
  },
  {
   "cell_type": "code",
   "execution_count": 43,
   "id": "ee3aafa3",
   "metadata": {},
   "outputs": [
    {
     "data": {
      "text/plain": [
       "{'n_estimators': 400,\n",
       " 'min_samples_split': 10,\n",
       " 'min_samples_leaf': 4,\n",
       " 'max_features': 'auto',\n",
       " 'max_depth': 70,\n",
       " 'bootstrap': True}"
      ]
     },
     "execution_count": 43,
     "metadata": {},
     "output_type": "execute_result"
    }
   ],
   "source": [
    "best_rf"
   ]
  },
  {
   "cell_type": "code",
   "execution_count": 44,
   "id": "fdffc46c",
   "metadata": {},
   "outputs": [
    {
     "name": "stdout",
     "output_type": "stream",
     "text": [
      "Fitting 3 folds for each of 100 candidates, totalling 300 fits\n"
     ]
    },
    {
     "name": "stderr",
     "output_type": "stream",
     "text": [
      "/Users/mariamammar/opt/anaconda3/lib/python3.8/site-packages/joblib/externals/loky/process_executor.py:688: UserWarning: A worker stopped while some jobs were given to the executor. This can be caused by a too short worker timeout or by a memory leak.\n",
      "  warnings.warn(\n"
     ]
    },
    {
     "name": "stdout",
     "output_type": "stream",
     "text": [
      "Fitting 3 folds for each of 100 candidates, totalling 300 fits\n"
     ]
    },
    {
     "name": "stderr",
     "output_type": "stream",
     "text": [
      "/Users/mariamammar/opt/anaconda3/lib/python3.8/site-packages/joblib/externals/loky/process_executor.py:688: UserWarning: A worker stopped while some jobs were given to the executor. This can be caused by a too short worker timeout or by a memory leak.\n",
      "  warnings.warn(\n"
     ]
    },
    {
     "name": "stdout",
     "output_type": "stream",
     "text": [
      "Fitting 3 folds for each of 100 candidates, totalling 300 fits\n"
     ]
    },
    {
     "name": "stderr",
     "output_type": "stream",
     "text": [
      "/Users/mariamammar/opt/anaconda3/lib/python3.8/site-packages/joblib/externals/loky/process_executor.py:688: UserWarning: A worker stopped while some jobs were given to the executor. This can be caused by a too short worker timeout or by a memory leak.\n",
      "  warnings.warn(\n",
      "/Users/mariamammar/opt/anaconda3/lib/python3.8/site-packages/sklearn/ensemble/_forest.py:427: FutureWarning: `max_features='auto'` has been deprecated in 1.1 and will be removed in 1.3. To keep the past behaviour, explicitly set `max_features='sqrt'` or remove this parameter as it is also the default value for RandomForestClassifiers and ExtraTreesClassifiers.\n",
      "  warn(\n"
     ]
    },
    {
     "name": "stdout",
     "output_type": "stream",
     "text": [
      "Fitting 3 folds for each of 100 candidates, totalling 300 fits\n"
     ]
    },
    {
     "name": "stderr",
     "output_type": "stream",
     "text": [
      "/Users/mariamammar/opt/anaconda3/lib/python3.8/site-packages/joblib/externals/loky/process_executor.py:688: UserWarning: A worker stopped while some jobs were given to the executor. This can be caused by a too short worker timeout or by a memory leak.\n",
      "  warnings.warn(\n"
     ]
    },
    {
     "name": "stdout",
     "output_type": "stream",
     "text": [
      "Fitting 3 folds for each of 100 candidates, totalling 300 fits\n"
     ]
    },
    {
     "name": "stderr",
     "output_type": "stream",
     "text": [
      "/Users/mariamammar/opt/anaconda3/lib/python3.8/site-packages/joblib/externals/loky/process_executor.py:688: UserWarning: A worker stopped while some jobs were given to the executor. This can be caused by a too short worker timeout or by a memory leak.\n",
      "  warnings.warn(\n"
     ]
    },
    {
     "name": "stdout",
     "output_type": "stream",
     "text": [
      "Fitting 3 folds for each of 100 candidates, totalling 300 fits\n"
     ]
    },
    {
     "name": "stderr",
     "output_type": "stream",
     "text": [
      "/Users/mariamammar/opt/anaconda3/lib/python3.8/site-packages/joblib/externals/loky/process_executor.py:688: UserWarning: A worker stopped while some jobs were given to the executor. This can be caused by a too short worker timeout or by a memory leak.\n",
      "  warnings.warn(\n",
      "/Users/mariamammar/opt/anaconda3/lib/python3.8/site-packages/sklearn/ensemble/_forest.py:427: FutureWarning: `max_features='auto'` has been deprecated in 1.1 and will be removed in 1.3. To keep the past behaviour, explicitly set `max_features='sqrt'` or remove this parameter as it is also the default value for RandomForestClassifiers and ExtraTreesClassifiers.\n",
      "  warn(\n"
     ]
    },
    {
     "name": "stdout",
     "output_type": "stream",
     "text": [
      "Fitting 3 folds for each of 100 candidates, totalling 300 fits\n"
     ]
    },
    {
     "name": "stderr",
     "output_type": "stream",
     "text": [
      "/Users/mariamammar/opt/anaconda3/lib/python3.8/site-packages/joblib/externals/loky/process_executor.py:688: UserWarning: A worker stopped while some jobs were given to the executor. This can be caused by a too short worker timeout or by a memory leak.\n",
      "  warnings.warn(\n",
      "/Users/mariamammar/opt/anaconda3/lib/python3.8/site-packages/sklearn/ensemble/_forest.py:427: FutureWarning: `max_features='auto'` has been deprecated in 1.1 and will be removed in 1.3. To keep the past behaviour, explicitly set `max_features='sqrt'` or remove this parameter as it is also the default value for RandomForestClassifiers and ExtraTreesClassifiers.\n",
      "  warn(\n"
     ]
    },
    {
     "name": "stdout",
     "output_type": "stream",
     "text": [
      "Fitting 3 folds for each of 100 candidates, totalling 300 fits\n"
     ]
    },
    {
     "name": "stderr",
     "output_type": "stream",
     "text": [
      "/Users/mariamammar/opt/anaconda3/lib/python3.8/site-packages/joblib/externals/loky/process_executor.py:688: UserWarning: A worker stopped while some jobs were given to the executor. This can be caused by a too short worker timeout or by a memory leak.\n",
      "  warnings.warn(\n"
     ]
    },
    {
     "name": "stdout",
     "output_type": "stream",
     "text": [
      "Fitting 3 folds for each of 100 candidates, totalling 300 fits\n"
     ]
    },
    {
     "name": "stderr",
     "output_type": "stream",
     "text": [
      "/Users/mariamammar/opt/anaconda3/lib/python3.8/site-packages/joblib/externals/loky/process_executor.py:688: UserWarning: A worker stopped while some jobs were given to the executor. This can be caused by a too short worker timeout or by a memory leak.\n",
      "  warnings.warn(\n",
      "/Users/mariamammar/opt/anaconda3/lib/python3.8/site-packages/sklearn/ensemble/_forest.py:427: FutureWarning: `max_features='auto'` has been deprecated in 1.1 and will be removed in 1.3. To keep the past behaviour, explicitly set `max_features='sqrt'` or remove this parameter as it is also the default value for RandomForestClassifiers and ExtraTreesClassifiers.\n",
      "  warn(\n"
     ]
    },
    {
     "name": "stdout",
     "output_type": "stream",
     "text": [
      "Fitting 3 folds for each of 100 candidates, totalling 300 fits\n"
     ]
    },
    {
     "name": "stderr",
     "output_type": "stream",
     "text": [
      "/Users/mariamammar/opt/anaconda3/lib/python3.8/site-packages/joblib/externals/loky/process_executor.py:688: UserWarning: A worker stopped while some jobs were given to the executor. This can be caused by a too short worker timeout or by a memory leak.\n",
      "  warnings.warn(\n",
      "/Users/mariamammar/opt/anaconda3/lib/python3.8/site-packages/sklearn/ensemble/_forest.py:427: FutureWarning: `max_features='auto'` has been deprecated in 1.1 and will be removed in 1.3. To keep the past behaviour, explicitly set `max_features='sqrt'` or remove this parameter as it is also the default value for RandomForestClassifiers and ExtraTreesClassifiers.\n",
      "  warn(\n"
     ]
    },
    {
     "name": "stdout",
     "output_type": "stream",
     "text": [
      "0.43091439891565003\n"
     ]
    }
   ],
   "source": [
    "scores = cross_val_score(rf_random, X_train, y_train, cv = 10, scoring='accuracy')\n",
    "\n",
    "print(scores.mean())"
   ]
  },
  {
   "cell_type": "markdown",
   "id": "04a354f3",
   "metadata": {},
   "source": [
    "Unfortunatley, this the random search CV did little to change the accuracy metric.  "
   ]
  },
  {
   "cell_type": "code",
   "execution_count": 45,
   "id": "e561a744",
   "metadata": {},
   "outputs": [
    {
     "name": "stdout",
     "output_type": "stream",
     "text": [
      "Fitting 3 folds for each of 288 candidates, totalling 864 fits\n"
     ]
    },
    {
     "data": {
      "text/plain": [
       "0.3917748917748918"
      ]
     },
     "execution_count": 45,
     "metadata": {},
     "output_type": "execute_result"
    }
   ],
   "source": [
    "from sklearn.model_selection import GridSearchCV\n",
    "\n",
    "# Number of trees in random forest\n",
    "n_estimators = [int(x) for x in np.linspace(start = 200, stop = 2000, num = 10)]\n",
    "# Number of features to consider at every split\n",
    "max_features = ['auto', 'sqrt']\n",
    "# Maximum number of levels in tree\n",
    "max_depth = [int(x) for x in np.linspace(10, 110, num = 11)]\n",
    "max_depth.append(None)\n",
    "# Minimum number of samples required to split a node\n",
    "min_samples_split = [2, 5, 10]\n",
    "# Minimum number of samples required at each leaf node\n",
    "min_samples_leaf = [1, 2, 4]\n",
    "# Method of selecting samples for training each tree\n",
    "bootstrap = [True, False]\n",
    "\n",
    "# Create the random grid\n",
    "\n",
    "param_grid = {\n",
    "    'bootstrap': [True],\n",
    "    'max_depth': [80, 90, 100, 110],\n",
    "    'max_features': [2, 3],\n",
    "    'min_samples_leaf': [3, 4, 5],\n",
    "    'min_samples_split': [8, 10, 12],\n",
    "    'n_estimators': [100, 200, 300, 1000]\n",
    "}\n",
    "# Create a based model\n",
    "rf = RandomForestClassifier()\n",
    "# Instantiate the grid search model\n",
    "grid_search = GridSearchCV(estimator = rf, param_grid = param_grid, \n",
    "                          cv = 3, n_jobs = -1, verbose = 2)\n",
    "\n",
    "grid_search.fit(X_train, y_train)\n",
    "\n",
    "grid_pred = grid_search.predict(X_test)\n",
    "\n",
    "accuracy_score(grid_pred, y_test)\n"
   ]
  },
  {
   "cell_type": "markdown",
   "id": "d11e48f2",
   "metadata": {},
   "source": [
    "#### Re-training Model with Most Important Features"
   ]
  },
  {
   "cell_type": "code",
   "execution_count": 46,
   "id": "eea99d0a",
   "metadata": {},
   "outputs": [
    {
     "data": {
      "image/png": "[encoded data removed]",
      "text/plain": [
       "<Figure size 432x288 with 1 Axes>"
      ]
     },
     "metadata": {
      "needs_background": "light"
     },
     "output_type": "display_data"
    }
   ],
   "source": [
    "from sklearn.feature_selection import RFECV\n",
    "#SelectFromModel will select those features which importance is greater than \n",
    "#the mean importance of all the features by default\n",
    "num_features = 15\n",
    "plt.barh(range(num_features), importances[indices[-num_features:]], color='b', align='center')\n",
    "plt.yticks(range(num_features), [features[i] for i in indices[-num_features:]])\n",
    "plt.xlabel('Relative Importance')\n",
    "plt.show()\n"
   ]
  },
  {
   "cell_type": "markdown",
   "id": "418bd2ad",
   "metadata": {},
   "source": [
    "Since years of coding experience, age, education, years of machine learning experience, and company size seem to be the more important factors, we new model will be built using only those features. "
   ]
  },
  {
   "cell_type": "code",
   "execution_count": 47,
   "id": "485b87a4",
   "metadata": {},
   "outputs": [
    {
     "data": {
      "text/plain": [
       "Index(['Q1_age', 'gender__Man', 'gender__Other', 'gender__Woman', 'Q4_edu',\n",
       "       'title__Business Analyst', 'title__DBA/Database Engineer',\n",
       "       'title__Data Analyst', 'title__Data Engineer', 'title__Data Scientist',\n",
       "       'title__Machine Learning Engineer', 'title__Other',\n",
       "       'title__Product Manager', 'title__Program/Project Manager',\n",
       "       'title__Research Scientist', 'title__Software Engineer',\n",
       "       'title__Statistician', 'Q6_coding_exp', 'programming_lang__Other',\n",
       "       'programming_lang__Python', 'programming_lang__R',\n",
       "       'programming_lang__SQL', 'Q15_ml_experience',\n",
       "       'industry__Academics/Education', 'industry__Accounting/Finance',\n",
       "       'industry__Broadcasting/Communications',\n",
       "       'industry__Computers/Technology', 'industry__Energy/Mining',\n",
       "       'industry__Government/Public Service',\n",
       "       'industry__Insurance/Risk Assessment',\n",
       "       'industry__Manufacturing/Fabrication', 'industry__Marketing/CRM',\n",
       "       'industry__Medical/Pharmaceutical',\n",
       "       'industry__Military/Security/Defense',\n",
       "       'industry__Online Service/Internet-based Services', 'industry__Other',\n",
       "       'industry__Retail/Sales', 'industry__Shipping/Transportation',\n",
       "       'Q21_company_size', 'Q22_ind_responsible',\n",
       "       'responsibilities__Analyze and understand data to influence product or business decisions',\n",
       "       'responsibilities__Build and/or run the data infrastructure that my business uses for storing, analyzing, and operationalizing data',\n",
       "       'responsibilities__Build prototypes to explore applying machine learning to new areas',\n",
       "       'responsibilities__ML experimentation and research',\n",
       "       'responsibilities__Other', 'cloud_comp__ Amazon Web Services (AWS) ',\n",
       "       'cloud_comp__ Google Cloud Platform (GCP) ',\n",
       "       'cloud_comp__ Microsoft Azure ', 'cloud_comp__None',\n",
       "       'cloud_comp__Other', 'data_tools__Amazon Redshift ',\n",
       "       'data_tools__Google Cloud BigQuery ',\n",
       "       'data_tools__Microsoft Azure SQL Database ',\n",
       "       'data_tools__Microsoft SQL Server ', 'data_tools__MongoDB ',\n",
       "       'data_tools__MySQL ', 'data_tools__None/Other',\n",
       "       'data_tools__Oracle Database ', 'data_tools__PostgreSQL ',\n",
       "       'data_tools__SQLite ', 'data_tools__Snowflake ', 'target'],\n",
       "      dtype='object')"
      ]
     },
     "execution_count": 47,
     "metadata": {},
     "output_type": "execute_result"
    }
   ],
   "source": [
    "cdf.columns"
   ]
  },
  {
   "cell_type": "code",
   "execution_count": 48,
   "id": "dcbc3768",
   "metadata": {},
   "outputs": [
    {
     "data": {
      "text/plain": [
       "0.33875338753387535"
      ]
     },
     "execution_count": 48,
     "metadata": {},
     "output_type": "execute_result"
    }
   ],
   "source": [
    "new_df = cdf[[\"Q1_age\",\"Q4_edu\",\"Q15_ml_experience\",\"Q6_coding_exp\",\"Q21_company_size\",\"Q22_ind_responsible\",\"target\"]]\n",
    "\n",
    "X = new_df.iloc[:,:-1]\n",
    "y = new_df.iloc[:,-1]\n",
    "\n",
    "X_train, X_test, y_train, y_test = train_test_split(X, y, test_size=0.20, random_state=42, shuffle = True)\n",
    "\n",
    "rf_new = RandomForestClassifier()\n",
    "\n",
    "rf_new.fit(X_train, y_train)\n",
    "\n",
    "rr_new_pred = rf_new.predict(X_test)\n",
    "\n",
    "accuracy_score(y_test, rr_new_pred)"
   ]
  },
  {
   "cell_type": "markdown",
   "id": "2aa19390",
   "metadata": {},
   "source": [
    "## Conclusion"
   ]
  },
  {
   "cell_type": "markdown",
   "id": "15d3d371",
   "metadata": {},
   "source": [
    "This score is was not significantly higher than the previous model which included all of the initial features. None of the models were able to achieve an accuracy significantly higher than 40%. This suggests that the model is significantly underfit or that there is not one feature or a set of features that can clearly expalin the variation in salaries.\n",
    "\n",
    "For further research, data from a similar survey that features a continuous target variable with exact salary amounts. One should also note any noise that may result from self-input answers from survey takers. \n"
   ]
  },
  {
   "cell_type": "code",
   "execution_count": null,
   "id": "123eb2da",
   "metadata": {},
   "outputs": [],
   "source": []
  }
 ],
 "metadata": {
  "kernelspec": {
   "display_name": "Python 3",
   "language": "python",
   "name": "python3"
  },
  "language_info": {
   "codemirror_mode": {
    "name": "ipython",
    "version": 3
   },
   "file_extension": ".py",
   "mimetype": "text/x-python",
   "name": "python",
   "nbconvert_exporter": "python",
   "pygments_lexer": "ipython3",
   "version": "3.8.8"
  }
 },
 "nbformat": 4,
 "nbformat_minor": 5
}
